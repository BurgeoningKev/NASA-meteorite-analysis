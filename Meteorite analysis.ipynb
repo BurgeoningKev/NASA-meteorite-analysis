{
 "cells": [
  {
   "cell_type": "markdown",
   "id": "1b07656b",
   "metadata": {},
   "source": [
    "### The aim of this report is to analyse a dataset that compiles the characteristics of all known meteorite landings. "
   ]
  },
  {
   "cell_type": "code",
   "execution_count": 1,
   "id": "cdad374a",
   "metadata": {},
   "outputs": [],
   "source": [
    "#Importing necessary libraries\n",
    "\n",
    "import numpy as np \n",
    "import pandas as pd # data processing, CSV file I/O (e.g. pd.read_csv)\n",
    "import matplotlib.pyplot as plt\n",
    "import seaborn as sns"
   ]
  },
  {
   "cell_type": "markdown",
   "id": "9a1fc51a",
   "metadata": {},
   "source": [
    "#### Reading the CSV file and exploring data"
   ]
  },
  {
   "cell_type": "code",
   "execution_count": 2,
   "id": "776f20dd",
   "metadata": {},
   "outputs": [
    {
     "data": {
      "text/html": [
       "<div>\n",
       "<style scoped>\n",
       "    .dataframe tbody tr th:only-of-type {\n",
       "        vertical-align: middle;\n",
       "    }\n",
       "\n",
       "    .dataframe tbody tr th {\n",
       "        vertical-align: top;\n",
       "    }\n",
       "\n",
       "    .dataframe thead th {\n",
       "        text-align: right;\n",
       "    }\n",
       "</style>\n",
       "<table border=\"1\" class=\"dataframe\">\n",
       "  <thead>\n",
       "    <tr style=\"text-align: right;\">\n",
       "      <th></th>\n",
       "      <th>name</th>\n",
       "      <th>id</th>\n",
       "      <th>nametype</th>\n",
       "      <th>recclass</th>\n",
       "      <th>mass</th>\n",
       "      <th>fall</th>\n",
       "      <th>year</th>\n",
       "      <th>reclat</th>\n",
       "      <th>reclong</th>\n",
       "      <th>GeoLocation</th>\n",
       "    </tr>\n",
       "  </thead>\n",
       "  <tbody>\n",
       "    <tr>\n",
       "      <th>0</th>\n",
       "      <td>Aachen</td>\n",
       "      <td>1</td>\n",
       "      <td>Valid</td>\n",
       "      <td>L5</td>\n",
       "      <td>21.0</td>\n",
       "      <td>Fell</td>\n",
       "      <td>1880.0</td>\n",
       "      <td>50.77500</td>\n",
       "      <td>6.08333</td>\n",
       "      <td>(50.775000, 6.083330)</td>\n",
       "    </tr>\n",
       "    <tr>\n",
       "      <th>1</th>\n",
       "      <td>Aarhus</td>\n",
       "      <td>2</td>\n",
       "      <td>Valid</td>\n",
       "      <td>H6</td>\n",
       "      <td>720.0</td>\n",
       "      <td>Fell</td>\n",
       "      <td>1951.0</td>\n",
       "      <td>56.18333</td>\n",
       "      <td>10.23333</td>\n",
       "      <td>(56.183330, 10.233330)</td>\n",
       "    </tr>\n",
       "    <tr>\n",
       "      <th>2</th>\n",
       "      <td>Abee</td>\n",
       "      <td>6</td>\n",
       "      <td>Valid</td>\n",
       "      <td>EH4</td>\n",
       "      <td>107000.0</td>\n",
       "      <td>Fell</td>\n",
       "      <td>1952.0</td>\n",
       "      <td>54.21667</td>\n",
       "      <td>-113.00000</td>\n",
       "      <td>(54.216670, -113.000000)</td>\n",
       "    </tr>\n",
       "    <tr>\n",
       "      <th>3</th>\n",
       "      <td>Acapulco</td>\n",
       "      <td>10</td>\n",
       "      <td>Valid</td>\n",
       "      <td>Acapulcoite</td>\n",
       "      <td>1914.0</td>\n",
       "      <td>Fell</td>\n",
       "      <td>1976.0</td>\n",
       "      <td>16.88333</td>\n",
       "      <td>-99.90000</td>\n",
       "      <td>(16.883330, -99.900000)</td>\n",
       "    </tr>\n",
       "    <tr>\n",
       "      <th>4</th>\n",
       "      <td>Achiras</td>\n",
       "      <td>370</td>\n",
       "      <td>Valid</td>\n",
       "      <td>L6</td>\n",
       "      <td>780.0</td>\n",
       "      <td>Fell</td>\n",
       "      <td>1902.0</td>\n",
       "      <td>-33.16667</td>\n",
       "      <td>-64.95000</td>\n",
       "      <td>(-33.166670, -64.950000)</td>\n",
       "    </tr>\n",
       "    <tr>\n",
       "      <th>...</th>\n",
       "      <td>...</td>\n",
       "      <td>...</td>\n",
       "      <td>...</td>\n",
       "      <td>...</td>\n",
       "      <td>...</td>\n",
       "      <td>...</td>\n",
       "      <td>...</td>\n",
       "      <td>...</td>\n",
       "      <td>...</td>\n",
       "      <td>...</td>\n",
       "    </tr>\n",
       "    <tr>\n",
       "      <th>45711</th>\n",
       "      <td>Zillah 002</td>\n",
       "      <td>31356</td>\n",
       "      <td>Valid</td>\n",
       "      <td>Eucrite</td>\n",
       "      <td>172.0</td>\n",
       "      <td>Found</td>\n",
       "      <td>1990.0</td>\n",
       "      <td>29.03700</td>\n",
       "      <td>17.01850</td>\n",
       "      <td>(29.037000, 17.018500)</td>\n",
       "    </tr>\n",
       "    <tr>\n",
       "      <th>45712</th>\n",
       "      <td>Zinder</td>\n",
       "      <td>30409</td>\n",
       "      <td>Valid</td>\n",
       "      <td>Pallasite, ungrouped</td>\n",
       "      <td>46.0</td>\n",
       "      <td>Found</td>\n",
       "      <td>1999.0</td>\n",
       "      <td>13.78333</td>\n",
       "      <td>8.96667</td>\n",
       "      <td>(13.783330, 8.966670)</td>\n",
       "    </tr>\n",
       "    <tr>\n",
       "      <th>45713</th>\n",
       "      <td>Zlin</td>\n",
       "      <td>30410</td>\n",
       "      <td>Valid</td>\n",
       "      <td>H4</td>\n",
       "      <td>3.3</td>\n",
       "      <td>Found</td>\n",
       "      <td>1939.0</td>\n",
       "      <td>49.25000</td>\n",
       "      <td>17.66667</td>\n",
       "      <td>(49.250000, 17.666670)</td>\n",
       "    </tr>\n",
       "    <tr>\n",
       "      <th>45714</th>\n",
       "      <td>Zubkovsky</td>\n",
       "      <td>31357</td>\n",
       "      <td>Valid</td>\n",
       "      <td>L6</td>\n",
       "      <td>2167.0</td>\n",
       "      <td>Found</td>\n",
       "      <td>2003.0</td>\n",
       "      <td>49.78917</td>\n",
       "      <td>41.50460</td>\n",
       "      <td>(49.789170, 41.504600)</td>\n",
       "    </tr>\n",
       "    <tr>\n",
       "      <th>45715</th>\n",
       "      <td>Zulu Queen</td>\n",
       "      <td>30414</td>\n",
       "      <td>Valid</td>\n",
       "      <td>L3.7</td>\n",
       "      <td>200.0</td>\n",
       "      <td>Found</td>\n",
       "      <td>1976.0</td>\n",
       "      <td>33.98333</td>\n",
       "      <td>-115.68333</td>\n",
       "      <td>(33.983330, -115.683330)</td>\n",
       "    </tr>\n",
       "  </tbody>\n",
       "</table>\n",
       "<p>45716 rows × 10 columns</p>\n",
       "</div>"
      ],
      "text/plain": [
       "             name     id nametype              recclass      mass   fall  \\\n",
       "0          Aachen      1    Valid                    L5      21.0   Fell   \n",
       "1          Aarhus      2    Valid                    H6     720.0   Fell   \n",
       "2            Abee      6    Valid                   EH4  107000.0   Fell   \n",
       "3        Acapulco     10    Valid           Acapulcoite    1914.0   Fell   \n",
       "4         Achiras    370    Valid                    L6     780.0   Fell   \n",
       "...           ...    ...      ...                   ...       ...    ...   \n",
       "45711  Zillah 002  31356    Valid               Eucrite     172.0  Found   \n",
       "45712      Zinder  30409    Valid  Pallasite, ungrouped      46.0  Found   \n",
       "45713        Zlin  30410    Valid                    H4       3.3  Found   \n",
       "45714   Zubkovsky  31357    Valid                    L6    2167.0  Found   \n",
       "45715  Zulu Queen  30414    Valid                  L3.7     200.0  Found   \n",
       "\n",
       "         year    reclat    reclong               GeoLocation  \n",
       "0      1880.0  50.77500    6.08333     (50.775000, 6.083330)  \n",
       "1      1951.0  56.18333   10.23333    (56.183330, 10.233330)  \n",
       "2      1952.0  54.21667 -113.00000  (54.216670, -113.000000)  \n",
       "3      1976.0  16.88333  -99.90000   (16.883330, -99.900000)  \n",
       "4      1902.0 -33.16667  -64.95000  (-33.166670, -64.950000)  \n",
       "...       ...       ...        ...                       ...  \n",
       "45711  1990.0  29.03700   17.01850    (29.037000, 17.018500)  \n",
       "45712  1999.0  13.78333    8.96667     (13.783330, 8.966670)  \n",
       "45713  1939.0  49.25000   17.66667    (49.250000, 17.666670)  \n",
       "45714  2003.0  49.78917   41.50460    (49.789170, 41.504600)  \n",
       "45715  1976.0  33.98333 -115.68333  (33.983330, -115.683330)  \n",
       "\n",
       "[45716 rows x 10 columns]"
      ]
     },
     "execution_count": 2,
     "metadata": {},
     "output_type": "execute_result"
    }
   ],
   "source": [
    "#Reading the comma-separated values\n",
    "\n",
    "'''\n",
    "You can get the data from-\n",
    "https://www.kaggle.com/nasa/meteorite-landings\n",
    "'''\n",
    "\n",
    "df=pd.read_csv(r'C:\\Users\\kevin\\Downloads\\archive\\meteorite-landings.csv')\n",
    "df"
   ]
  },
  {
   "cell_type": "code",
   "execution_count": 3,
   "id": "f3453498",
   "metadata": {},
   "outputs": [
    {
     "data": {
      "text/plain": [
       "(45716, 10)"
      ]
     },
     "execution_count": 3,
     "metadata": {},
     "output_type": "execute_result"
    }
   ],
   "source": [
    "df.shape"
   ]
  },
  {
   "cell_type": "code",
   "execution_count": 4,
   "id": "75d13353",
   "metadata": {},
   "outputs": [
    {
     "data": {
      "text/plain": [
       "Index(['name', 'id', 'nametype', 'recclass', 'mass', 'fall', 'year', 'reclat',\n",
       "       'reclong', 'GeoLocation'],\n",
       "      dtype='object')"
      ]
     },
     "execution_count": 4,
     "metadata": {},
     "output_type": "execute_result"
    }
   ],
   "source": [
    "df.columns"
   ]
  },
  {
   "cell_type": "raw",
   "id": "5600f8b4",
   "metadata": {},
   "source": [
    "#Columns description\n",
    "\n",
    "name: the name of the meteorite (typically a location, often modified with a number, year, composition, etc)\n",
    "id: a unique identifier for the meteorite\n",
    "nametype: one of:\n",
    "-- valid: a typical meteorite\n",
    "-- relict: a meteorite that has been highly degraded by weather on Earth\n",
    "recclass: the class of the meteorite; one of a large number of classes based on physical, chemical, and other characteristics (see the Wikipedia article on meteorite classification for a primer)\n",
    "mass: the mass of the meteorite, in grams\n",
    "fall: whether the meteorite was seen falling, or was discovered after its impact; one of:\n",
    "-- Fell: the meteorite's fall was observed\n",
    "-- Found: the meteorite's fall was not observed\n",
    "year: the year the meteorite fell, or the year it was found (depending on the value of fell)\n",
    "reclat: the latitude of the meteorite's landing\n",
    "reclong: the longitude of the meteorite's landing\n",
    "GeoLocation: a parentheses-enclose, comma-separated tuple that combines reclat and reclong\n"
   ]
  },
  {
   "cell_type": "code",
   "execution_count": 6,
   "id": "1f437599",
   "metadata": {},
   "outputs": [
    {
     "data": {
      "text/plain": [
       "name              0\n",
       "id                0\n",
       "nametype          0\n",
       "recclass          0\n",
       "mass            131\n",
       "fall              0\n",
       "year            288\n",
       "reclat         7315\n",
       "reclong        7315\n",
       "GeoLocation    7315\n",
       "dtype: int64"
      ]
     },
     "execution_count": 6,
     "metadata": {},
     "output_type": "execute_result"
    }
   ],
   "source": [
    "#Detect missing values\n",
    "\n",
    "df.isna().sum()"
   ]
  },
  {
   "cell_type": "code",
   "execution_count": 7,
   "id": "1de95198",
   "metadata": {},
   "outputs": [
    {
     "data": {
      "text/html": [
       "<div>\n",
       "<style scoped>\n",
       "    .dataframe tbody tr th:only-of-type {\n",
       "        vertical-align: middle;\n",
       "    }\n",
       "\n",
       "    .dataframe tbody tr th {\n",
       "        vertical-align: top;\n",
       "    }\n",
       "\n",
       "    .dataframe thead th {\n",
       "        text-align: right;\n",
       "    }\n",
       "</style>\n",
       "<table border=\"1\" class=\"dataframe\">\n",
       "  <thead>\n",
       "    <tr style=\"text-align: right;\">\n",
       "      <th></th>\n",
       "      <th>id</th>\n",
       "      <th>mass</th>\n",
       "      <th>year</th>\n",
       "      <th>reclat</th>\n",
       "      <th>reclong</th>\n",
       "    </tr>\n",
       "  </thead>\n",
       "  <tbody>\n",
       "    <tr>\n",
       "      <th>count</th>\n",
       "      <td>45716.000000</td>\n",
       "      <td>4.558500e+04</td>\n",
       "      <td>45428.000000</td>\n",
       "      <td>38401.000000</td>\n",
       "      <td>38401.000000</td>\n",
       "    </tr>\n",
       "    <tr>\n",
       "      <th>mean</th>\n",
       "      <td>26889.735104</td>\n",
       "      <td>1.327808e+04</td>\n",
       "      <td>1991.772189</td>\n",
       "      <td>-39.122580</td>\n",
       "      <td>61.074319</td>\n",
       "    </tr>\n",
       "    <tr>\n",
       "      <th>std</th>\n",
       "      <td>16860.683030</td>\n",
       "      <td>5.749889e+05</td>\n",
       "      <td>27.181247</td>\n",
       "      <td>46.378511</td>\n",
       "      <td>80.647298</td>\n",
       "    </tr>\n",
       "    <tr>\n",
       "      <th>min</th>\n",
       "      <td>1.000000</td>\n",
       "      <td>0.000000e+00</td>\n",
       "      <td>301.000000</td>\n",
       "      <td>-87.366670</td>\n",
       "      <td>-165.433330</td>\n",
       "    </tr>\n",
       "    <tr>\n",
       "      <th>25%</th>\n",
       "      <td>12688.750000</td>\n",
       "      <td>7.200000e+00</td>\n",
       "      <td>1987.000000</td>\n",
       "      <td>-76.714240</td>\n",
       "      <td>0.000000</td>\n",
       "    </tr>\n",
       "    <tr>\n",
       "      <th>50%</th>\n",
       "      <td>24261.500000</td>\n",
       "      <td>3.260000e+01</td>\n",
       "      <td>1998.000000</td>\n",
       "      <td>-71.500000</td>\n",
       "      <td>35.666670</td>\n",
       "    </tr>\n",
       "    <tr>\n",
       "      <th>75%</th>\n",
       "      <td>40656.750000</td>\n",
       "      <td>2.026000e+02</td>\n",
       "      <td>2003.000000</td>\n",
       "      <td>0.000000</td>\n",
       "      <td>157.166670</td>\n",
       "    </tr>\n",
       "    <tr>\n",
       "      <th>max</th>\n",
       "      <td>57458.000000</td>\n",
       "      <td>6.000000e+07</td>\n",
       "      <td>2501.000000</td>\n",
       "      <td>81.166670</td>\n",
       "      <td>354.473330</td>\n",
       "    </tr>\n",
       "  </tbody>\n",
       "</table>\n",
       "</div>"
      ],
      "text/plain": [
       "                 id          mass          year        reclat       reclong\n",
       "count  45716.000000  4.558500e+04  45428.000000  38401.000000  38401.000000\n",
       "mean   26889.735104  1.327808e+04   1991.772189    -39.122580     61.074319\n",
       "std    16860.683030  5.749889e+05     27.181247     46.378511     80.647298\n",
       "min        1.000000  0.000000e+00    301.000000    -87.366670   -165.433330\n",
       "25%    12688.750000  7.200000e+00   1987.000000    -76.714240      0.000000\n",
       "50%    24261.500000  3.260000e+01   1998.000000    -71.500000     35.666670\n",
       "75%    40656.750000  2.026000e+02   2003.000000      0.000000    157.166670\n",
       "max    57458.000000  6.000000e+07   2501.000000     81.166670    354.473330"
      ]
     },
     "execution_count": 7,
     "metadata": {},
     "output_type": "execute_result"
    }
   ],
   "source": [
    "df.describe()\n",
    "\n",
    "#Note: These are incorrect statistical inferences because we've not yet gotten rid of null values"
   ]
  },
  {
   "cell_type": "code",
   "execution_count": 8,
   "id": "95202020",
   "metadata": {},
   "outputs": [
    {
     "data": {
      "text/plain": [
       "Valid     45641\n",
       "Relict       75\n",
       "Name: nametype, dtype: int64"
      ]
     },
     "execution_count": 8,
     "metadata": {},
     "output_type": "execute_result"
    }
   ],
   "source": [
    "#Total valid and relict meteorites\n",
    "\n",
    "df['nametype'].value_counts(normalize=False)"
   ]
  },
  {
   "cell_type": "code",
   "execution_count": 9,
   "id": "57f2a5b7",
   "metadata": {},
   "outputs": [
    {
     "data": {
      "text/plain": [
       "Valid     0.998359\n",
       "Relict    0.001641\n",
       "Name: nametype, dtype: float64"
      ]
     },
     "execution_count": 9,
     "metadata": {},
     "output_type": "execute_result"
    }
   ],
   "source": [
    "#Total valid and relict meteorites by percentage\n",
    "\n",
    "df['nametype'].value_counts(normalize=True)"
   ]
  },
  {
   "cell_type": "code",
   "execution_count": 21,
   "id": "5871a6ef",
   "metadata": {},
   "outputs": [
    {
     "data": {
      "text/plain": [
       "<AxesSubplot:>"
      ]
     },
     "execution_count": 21,
     "metadata": {},
     "output_type": "execute_result"
    },
    {
     "data": {
      "image/png": "[encoded data removed]",
      "text/plain": [
       "<Figure size 432x288 with 1 Axes>"
      ]
     },
     "metadata": {
      "needs_background": "light"
     },
     "output_type": "display_data"
    }
   ],
   "source": [
    "df['nametype'].value_counts().plot(kind='bar')"
   ]
  },
  {
   "cell_type": "code",
   "execution_count": 11,
   "id": "0cb0f9e6",
   "metadata": {},
   "outputs": [
    {
     "data": {
      "text/plain": [
       "Found    0.975785\n",
       "Fell     0.024215\n",
       "Name: fall, dtype: float64"
      ]
     },
     "execution_count": 11,
     "metadata": {},
     "output_type": "execute_result"
    }
   ],
   "source": [
    "# % of meteorite under categories - \"meteorite fall\"(fall) and \"meteorite find\"(find)\n",
    "\n",
    "'''\n",
    "A \"meteorite fall\", also called an \"observed fall\", is a meteorite collected after its arrival \n",
    "was observed by people or automated devices. Any other meteorite is called a \"meteorite find\".\n",
    "'''\n",
    "\n",
    "df['fall'].value_counts(normalize=True)"
   ]
  },
  {
   "cell_type": "code",
   "execution_count": 25,
   "id": "da2bde0f",
   "metadata": {},
   "outputs": [
    {
     "data": {
      "text/plain": [
       "L6                 8285\n",
       "H5                 7142\n",
       "L5                 4796\n",
       "H6                 4528\n",
       "H4                 4211\n",
       "                   ... \n",
       "L3.0-3.7              1\n",
       "LL4/6                 1\n",
       "Iron, IIIE-an         1\n",
       "L4-melt breccia       1\n",
       "L3.3-3.7              1\n",
       "Name: recclass, Length: 466, dtype: int64"
      ]
     },
     "execution_count": 25,
     "metadata": {},
     "output_type": "execute_result"
    }
   ],
   "source": [
    "df[\"recclass\"].value_counts()"
   ]
  },
  {
   "cell_type": "code",
   "execution_count": 40,
   "id": "b22a77f8",
   "metadata": {},
   "outputs": [],
   "source": [
    "#Getting rid of Null values\n",
    "\n",
    "df_new = df.dropna(subset=[\"reclong\", \"reclat\",\"mass\"])\n",
    "# df_new = df.dropna(subset=[\"mass\"])"
   ]
  },
  {
   "cell_type": "code",
   "execution_count": 41,
   "id": "00408744",
   "metadata": {},
   "outputs": [
    {
     "data": {
      "text/plain": [
       "name             0\n",
       "id               0\n",
       "nametype         0\n",
       "recclass         0\n",
       "mass             0\n",
       "fall             0\n",
       "year           166\n",
       "reclat           0\n",
       "reclong          0\n",
       "GeoLocation      0\n",
       "dtype: int64"
      ]
     },
     "execution_count": 41,
     "metadata": {},
     "output_type": "execute_result"
    }
   ],
   "source": [
    "df_new.isna().sum()"
   ]
  },
  {
   "cell_type": "code",
   "execution_count": 70,
   "id": "b65335cc",
   "metadata": {},
   "outputs": [
    {
     "data": {
      "text/plain": [
       "count    38282.000000\n",
       "mean        15.580978\n",
       "std        627.320291\n",
       "min          0.000000\n",
       "25%          0.006700\n",
       "50%          0.029345\n",
       "75%          0.189175\n",
       "max      60000.000000\n",
       "Name: mass, dtype: float64"
      ]
     },
     "execution_count": 70,
     "metadata": {},
     "output_type": "execute_result"
    }
   ],
   "source": [
    "df_new['mass'].describe()"
   ]
  },
  {
   "cell_type": "code",
   "execution_count": 71,
   "id": "822ec770",
   "metadata": {},
   "outputs": [
    {
     "data": {
      "text/plain": [
       "count    38116.000000\n",
       "mean      1989.957472\n",
       "std         26.444565\n",
       "min        601.000000\n",
       "25%       1986.000000\n",
       "50%       1996.000000\n",
       "75%       2002.000000\n",
       "max       2101.000000\n",
       "Name: year, dtype: float64"
      ]
     },
     "execution_count": 71,
     "metadata": {},
     "output_type": "execute_result"
    }
   ],
   "source": [
    "df_new['year'].describe()"
   ]
  },
  {
   "cell_type": "code",
   "execution_count": 42,
   "id": "b8dbdfed",
   "metadata": {},
   "outputs": [
    {
     "name": "stdout",
     "output_type": "stream",
     "text": [
      "               id      mass      year    reclat   reclong\n",
      "id       1.000000 -0.017947  0.337228  0.271513 -0.334474\n",
      "mass    -0.017947  1.000000 -0.117377  0.029087 -0.021860\n",
      "year     0.337228 -0.117377  1.000000 -0.103759  0.087598\n",
      "reclat   0.271513  0.029087 -0.103759  1.000000 -0.592508\n",
      "reclong -0.334474 -0.021860  0.087598 -0.592508  1.000000\n"
     ]
    }
   ],
   "source": [
    "print(df_new.corr())"
   ]
  },
  {
   "cell_type": "code",
   "execution_count": 43,
   "id": "73548758",
   "metadata": {},
   "outputs": [
    {
     "name": "stdout",
     "output_type": "stream",
     "text": [
      "0          0.0210\n",
      "1          0.7200\n",
      "2        107.0000\n",
      "3          1.9140\n",
      "4          0.7800\n",
      "           ...   \n",
      "45711      0.1720\n",
      "45712      0.0460\n",
      "45713      0.0033\n",
      "45714      2.1670\n",
      "45715      0.2000\n",
      "Name: mass, Length: 38282, dtype: float64\n"
     ]
    },
    {
     "name": "stderr",
     "output_type": "stream",
     "text": [
      "<ipython-input-43-8be3704dbc19>:1: SettingWithCopyWarning: \n",
      "A value is trying to be set on a copy of a slice from a DataFrame.\n",
      "Try using .loc[row_indexer,col_indexer] = value instead\n",
      "\n",
      "See the caveats in the documentation: https://pandas.pydata.org/pandas-docs/stable/user_guide/indexing.html#returning-a-view-versus-a-copy\n",
      "  df_new[\"mass\"] = df_new[\"mass\"] / 1000\n"
     ]
    }
   ],
   "source": [
    "df_new[\"mass\"] = df_new[\"mass\"] / 1000\n",
    "print(df_new[\"mass\"])\n"
   ]
  },
  {
   "cell_type": "code",
   "execution_count": 48,
   "id": "2323810a",
   "metadata": {},
   "outputs": [
    {
     "name": "stdout",
     "output_type": "stream",
     "text": [
      "                        name     id nametype recclass   mass   fall    year  \\\n",
      "30679  Northwest Africa 7701  57150    Valid      CK6  0.055  Found  2101.0   \n",
      "\n",
      "       reclat  reclong           GeoLocation  \n",
      "30679     0.0      0.0  (0.000000, 0.000000)  \n"
     ]
    }
   ],
   "source": [
    "#Well we still can't predict future can we?\n",
    "\n",
    "print(df_new[df_new[\"year\"]>2021])"
   ]
  },
  {
   "cell_type": "code",
   "execution_count": 16,
   "id": "414c3cba",
   "metadata": {},
   "outputs": [
    {
     "data": {
      "image/png": "[encoded data removed]",
      "text/plain": [
       "<Figure size 595.44x288 with 3 Axes>"
      ]
     },
     "metadata": {
      "needs_background": "light"
     },
     "output_type": "display_data"
    }
   ],
   "source": [
    "#Plot shows the landing area of meteorite based on latitude and longitude\n",
    "\n",
    "pl=sns.jointplot(data=df, x=\"reclong\", y=\"reclat\")\n",
    "\n",
    "#set plot size\n",
    "pl.fig.set_figwidth(8.27)\n",
    "pl.fig.set_figheight(4)\n",
    "\n",
    "#Note: Through this plot we can identify one outliar which can be addressed using below line\n",
    "    \n",
    "df_new = df_new[df_new.reclong < 300]"
   ]
  },
  {
   "cell_type": "code",
   "execution_count": 55,
   "id": "4d65e71c",
   "metadata": {},
   "outputs": [
    {
     "data": {
      "text/plain": [
       "recclass               fall \n",
       "Acapulcoite            Fell     1.914000\n",
       "                       Found    0.257919\n",
       "Acapulcoite/Lodranite  Found    0.025352\n",
       "Acapulcoite/lodranite  Found    0.066750\n",
       "Achondrite-prim        Found    0.747667\n",
       "                                  ...   \n",
       "Ureilite-an            Fell     3.950000\n",
       "                       Found    0.016850\n",
       "Ureilite-pmict         Found    0.306461\n",
       "Winonaite              Fell     0.157000\n",
       "                       Found    1.564531\n",
       "Name: mass, Length: 536, dtype: float64"
      ]
     },
     "execution_count": 55,
     "metadata": {},
     "output_type": "execute_result"
    }
   ],
   "source": [
    "df_new.groupby([\"recclass\",\"fall\"])[\"mass\"].mean()"
   ]
  },
  {
   "cell_type": "code",
   "execution_count": 62,
   "id": "7203559e",
   "metadata": {},
   "outputs": [
    {
     "data": {
      "text/plain": [
       "<AxesSubplot:>"
      ]
     },
     "execution_count": 62,
     "metadata": {},
     "output_type": "execute_result"
    },
    {
     "data": {
      "image/png": "[encoded data removed]",
      "text/plain": [
       "<Figure size 864x576 with 1 Axes>"
      ]
     },
     "metadata": {
      "needs_background": "light"
     },
     "output_type": "display_data"
    }
   ],
   "source": [
    "figure = plt.figure(figsize=(12,8))\n",
    "\n",
    "df_new.year.hist(bins=np.arange(1900,2014,1))"
   ]
  },
  {
   "cell_type": "code",
   "execution_count": 63,
   "id": "3d79418a",
   "metadata": {},
   "outputs": [
    {
     "data": {
      "text/plain": [
       "<AxesSubplot:>"
      ]
     },
     "execution_count": 63,
     "metadata": {},
     "output_type": "execute_result"
    },
    {
     "data": {
      "image/png": "[encoded data removed]",
      "text/plain": [
       "<Figure size 864x576 with 1 Axes>"
      ]
     },
     "metadata": {
      "needs_background": "light"
     },
     "output_type": "display_data"
    }
   ],
   "source": [
    "#Histogram of the mass of the meteorite\n",
    "\n",
    "figure = plt.figure(figsize=(12,8))\n",
    "\n",
    "df_new.mass.hist(bins=np.arange(0.05,27,1))"
   ]
  },
  {
   "cell_type": "code",
   "execution_count": 65,
   "id": "0a6a36a6",
   "metadata": {},
   "outputs": [
    {
     "data": {
      "text/html": [
       "<div>\n",
       "<style scoped>\n",
       "    .dataframe tbody tr th:only-of-type {\n",
       "        vertical-align: middle;\n",
       "    }\n",
       "\n",
       "    .dataframe tbody tr th {\n",
       "        vertical-align: top;\n",
       "    }\n",
       "\n",
       "    .dataframe thead th {\n",
       "        text-align: right;\n",
       "    }\n",
       "</style>\n",
       "<table border=\"1\" class=\"dataframe\">\n",
       "  <thead>\n",
       "    <tr style=\"text-align: right;\">\n",
       "      <th></th>\n",
       "      <th>name</th>\n",
       "      <th>id</th>\n",
       "      <th>nametype</th>\n",
       "      <th>recclass</th>\n",
       "      <th>mass</th>\n",
       "      <th>fall</th>\n",
       "      <th>year</th>\n",
       "      <th>reclat</th>\n",
       "      <th>reclong</th>\n",
       "      <th>GeoLocation</th>\n",
       "    </tr>\n",
       "  </thead>\n",
       "  <tbody>\n",
       "    <tr>\n",
       "      <th>16383</th>\n",
       "      <td>Hoba</td>\n",
       "      <td>11890</td>\n",
       "      <td>Valid</td>\n",
       "      <td>Iron, IVB</td>\n",
       "      <td>60000000.0</td>\n",
       "      <td>Found</td>\n",
       "      <td>1920.0</td>\n",
       "      <td>-19.58333</td>\n",
       "      <td>17.91667</td>\n",
       "      <td>(-19.583330, 17.916670)</td>\n",
       "    </tr>\n",
       "    <tr>\n",
       "      <th>5336</th>\n",
       "      <td>Cape York</td>\n",
       "      <td>5262</td>\n",
       "      <td>Valid</td>\n",
       "      <td>Iron, IIIAB</td>\n",
       "      <td>58200000.0</td>\n",
       "      <td>Found</td>\n",
       "      <td>1818.0</td>\n",
       "      <td>76.13333</td>\n",
       "      <td>-64.93333</td>\n",
       "      <td>(76.133330, -64.933330)</td>\n",
       "    </tr>\n",
       "    <tr>\n",
       "      <th>5329</th>\n",
       "      <td>Campo del Cielo</td>\n",
       "      <td>5247</td>\n",
       "      <td>Valid</td>\n",
       "      <td>Iron, IAB-MG</td>\n",
       "      <td>50000000.0</td>\n",
       "      <td>Found</td>\n",
       "      <td>1575.0</td>\n",
       "      <td>-27.46667</td>\n",
       "      <td>-60.58333</td>\n",
       "      <td>(-27.466670, -60.583330)</td>\n",
       "    </tr>\n",
       "    <tr>\n",
       "      <th>5333</th>\n",
       "      <td>Canyon Diablo</td>\n",
       "      <td>5257</td>\n",
       "      <td>Valid</td>\n",
       "      <td>Iron, IAB-MG</td>\n",
       "      <td>30000000.0</td>\n",
       "      <td>Found</td>\n",
       "      <td>1891.0</td>\n",
       "      <td>35.05000</td>\n",
       "      <td>-111.03333</td>\n",
       "      <td>(35.050000, -111.033330)</td>\n",
       "    </tr>\n",
       "    <tr>\n",
       "      <th>3433</th>\n",
       "      <td>Armanty</td>\n",
       "      <td>2335</td>\n",
       "      <td>Valid</td>\n",
       "      <td>Iron, IIIE</td>\n",
       "      <td>28000000.0</td>\n",
       "      <td>Found</td>\n",
       "      <td>1898.0</td>\n",
       "      <td>47.00000</td>\n",
       "      <td>88.00000</td>\n",
       "      <td>(47.000000, 88.000000)</td>\n",
       "    </tr>\n",
       "    <tr>\n",
       "      <th>12600</th>\n",
       "      <td>Gibeon</td>\n",
       "      <td>10912</td>\n",
       "      <td>Valid</td>\n",
       "      <td>Iron, IVA</td>\n",
       "      <td>26000000.0</td>\n",
       "      <td>Found</td>\n",
       "      <td>1836.0</td>\n",
       "      <td>-25.50000</td>\n",
       "      <td>18.00000</td>\n",
       "      <td>(-25.500000, 18.000000)</td>\n",
       "    </tr>\n",
       "    <tr>\n",
       "      <th>5431</th>\n",
       "      <td>Chupaderos</td>\n",
       "      <td>5363</td>\n",
       "      <td>Valid</td>\n",
       "      <td>Iron, IIIAB</td>\n",
       "      <td>24300000.0</td>\n",
       "      <td>Found</td>\n",
       "      <td>1852.0</td>\n",
       "      <td>27.00000</td>\n",
       "      <td>-105.10000</td>\n",
       "      <td>(27.000000, -105.100000)</td>\n",
       "    </tr>\n",
       "    <tr>\n",
       "      <th>26293</th>\n",
       "      <td>Mundrabilla</td>\n",
       "      <td>16852</td>\n",
       "      <td>Valid</td>\n",
       "      <td>Iron, IAB-ung</td>\n",
       "      <td>24000000.0</td>\n",
       "      <td>Found</td>\n",
       "      <td>1911.0</td>\n",
       "      <td>-30.78333</td>\n",
       "      <td>127.55000</td>\n",
       "      <td>(-30.783330, 127.550000)</td>\n",
       "    </tr>\n",
       "    <tr>\n",
       "      <th>916</th>\n",
       "      <td>Sikhote-Alin</td>\n",
       "      <td>23593</td>\n",
       "      <td>Valid</td>\n",
       "      <td>Iron, IIAB</td>\n",
       "      <td>23000000.0</td>\n",
       "      <td>Fell</td>\n",
       "      <td>1947.0</td>\n",
       "      <td>46.16000</td>\n",
       "      <td>134.65333</td>\n",
       "      <td>(46.160000, 134.653330)</td>\n",
       "    </tr>\n",
       "    <tr>\n",
       "      <th>4981</th>\n",
       "      <td>Bacubirito</td>\n",
       "      <td>4919</td>\n",
       "      <td>Valid</td>\n",
       "      <td>Iron, ungrouped</td>\n",
       "      <td>22000000.0</td>\n",
       "      <td>Found</td>\n",
       "      <td>1863.0</td>\n",
       "      <td>26.20000</td>\n",
       "      <td>-107.83333</td>\n",
       "      <td>(26.200000, -107.833330)</td>\n",
       "    </tr>\n",
       "  </tbody>\n",
       "</table>\n",
       "</div>"
      ],
      "text/plain": [
       "                  name     id nametype         recclass        mass   fall  \\\n",
       "16383             Hoba  11890    Valid        Iron, IVB  60000000.0  Found   \n",
       "5336         Cape York   5262    Valid      Iron, IIIAB  58200000.0  Found   \n",
       "5329   Campo del Cielo   5247    Valid     Iron, IAB-MG  50000000.0  Found   \n",
       "5333     Canyon Diablo   5257    Valid     Iron, IAB-MG  30000000.0  Found   \n",
       "3433           Armanty   2335    Valid       Iron, IIIE  28000000.0  Found   \n",
       "12600           Gibeon  10912    Valid        Iron, IVA  26000000.0  Found   \n",
       "5431        Chupaderos   5363    Valid      Iron, IIIAB  24300000.0  Found   \n",
       "26293      Mundrabilla  16852    Valid    Iron, IAB-ung  24000000.0  Found   \n",
       "916       Sikhote-Alin  23593    Valid       Iron, IIAB  23000000.0   Fell   \n",
       "4981        Bacubirito   4919    Valid  Iron, ungrouped  22000000.0  Found   \n",
       "\n",
       "         year    reclat    reclong               GeoLocation  \n",
       "16383  1920.0 -19.58333   17.91667   (-19.583330, 17.916670)  \n",
       "5336   1818.0  76.13333  -64.93333   (76.133330, -64.933330)  \n",
       "5329   1575.0 -27.46667  -60.58333  (-27.466670, -60.583330)  \n",
       "5333   1891.0  35.05000 -111.03333  (35.050000, -111.033330)  \n",
       "3433   1898.0  47.00000   88.00000    (47.000000, 88.000000)  \n",
       "12600  1836.0 -25.50000   18.00000   (-25.500000, 18.000000)  \n",
       "5431   1852.0  27.00000 -105.10000  (27.000000, -105.100000)  \n",
       "26293  1911.0 -30.78333  127.55000  (-30.783330, 127.550000)  \n",
       "916    1947.0  46.16000  134.65333   (46.160000, 134.653330)  \n",
       "4981   1863.0  26.20000 -107.83333  (26.200000, -107.833330)  "
      ]
     },
     "execution_count": 65,
     "metadata": {},
     "output_type": "execute_result"
    }
   ],
   "source": [
    "#Heaviest meteorite to test humanity\n",
    "\n",
    "df.nlargest(10, ['mass'])\n",
    "\n",
    "#check out these huge meteorite on Wikipedia\n",
    "#https://en.wikipedia.org/wiki/Hoba_meteorite\n",
    "#https://en.wikipedia.org/wiki/Cape_York_meteorite"
   ]
  },
  {
   "cell_type": "code",
   "execution_count": null,
   "id": "e02e0d1c",
   "metadata": {},
   "outputs": [],
   "source": []
  }
 ],
 "metadata": {
  "kernelspec": {
   "display_name": "Python 3",
   "language": "python",
   "name": "python3"
  },
  "language_info": {
   "codemirror_mode": {
    "name": "ipython",
    "version": 3
   },
   "file_extension": ".py",
   "mimetype": "text/x-python",
   "name": "python",
   "nbconvert_exporter": "python",
   "pygments_lexer": "ipython3",
   "version": "3.8.8"
  }
 },
 "nbformat": 4,
 "nbformat_minor": 5
}
